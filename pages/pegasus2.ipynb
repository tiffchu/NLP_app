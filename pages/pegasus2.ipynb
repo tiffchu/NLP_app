{
 "cells": [
  {
   "cell_type": "code",
   "execution_count": 13,
   "metadata": {},
   "outputs": [],
   "source": [
    "\n",
    "import pandas as pd\n",
    "\n",
    "with open(\"../clean_data/Master_all_Cleaned.csv\", encoding='utf-8', errors='ignore') as f:\n",
    "    txt1 = pd.read_csv(f)\n",
    "\n",
    "txt = txt1['Response'][3]"
   ]
  },
  {
   "cell_type": "code",
   "execution_count": 12,
   "metadata": {},
   "outputs": [
    {
     "data": {
      "text/plain": [
       "\"Hi Colleen! My name is Khalifa and I'm going to be your mentor for this\\nyear! Currently, I am a fourth-year student at SFU (based in Burnaby, BC), and I am studying\\npsychology and education! I see that you're interested in working with kids. That's awesome! I\\nactually work with kids aged 3–6 on the autism spectrum. If you have any questions about working\\nwith children, or just want to talk about what you're passionate about, then please, feel free to\\nask or discuss with me! I really hope we get to know each other better, and have an awesome\\nexperience toegether.\""
      ]
     },
     "execution_count": 12,
     "metadata": {},
     "output_type": "execute_result"
    }
   ],
   "source": [
    "txt1['Response'][3]"
   ]
  },
  {
   "cell_type": "code",
   "execution_count": 14,
   "metadata": {},
   "outputs": [
    {
     "name": "stderr",
     "output_type": "stream",
     "text": [
      "Some weights of PegasusForConditionalGeneration were not initialized from the model checkpoint at google/pegasus-cnn_dailymail and are newly initialized: ['model.decoder.embed_positions.weight', 'model.encoder.embed_positions.weight']\n",
      "You should probably TRAIN this model on a down-stream task to be able to use it for predictions and inference.\n"
     ]
    },
    {
     "data": {
      "text/plain": [
       "['Khalifa is a fourth-year student at SFU (based in Burnaby, BC)<n>She is studying psychology and education.<n>I actually work with kids aged 3–6 on the autism spectrum.']"
      ]
     },
     "execution_count": 14,
     "metadata": {},
     "output_type": "execute_result"
    }
   ],
   "source": [
    "from transformers import PegasusForConditionalGeneration, AutoTokenizer\n",
    "import torch\n",
    "\n",
    "model_name = 'google/pegasus-multi_news'\n",
    "device = 'cuda' if torch.cuda.is_available() else 'cpu'\n",
    "tokenizer = AutoTokenizer.from_pretrained(model_name)\n",
    "model = PegasusForConditionalGeneration.from_pretrained(model_name).to(device)\n",
    "batch = tokenizer(txt, truncation=True, padding='longest', return_tensors=\"pt\").to(device)\n",
    "translated = model.generate(**batch)\n",
    "tgt_text = tokenizer.batch_decode(translated, skip_special_tokens=True)\n",
    "\n",
    "tgt_text"
   ]
  },
  {
   "cell_type": "code",
   "execution_count": null,
   "metadata": {},
   "outputs": [],
   "source": []
  }
 ],
 "metadata": {
  "kernelspec": {
   "display_name": "ementoring",
   "language": "python",
   "name": "python3"
  },
  "language_info": {
   "codemirror_mode": {
    "name": "ipython",
    "version": 3
   },
   "file_extension": ".py",
   "mimetype": "text/x-python",
   "name": "python",
   "nbconvert_exporter": "python",
   "pygments_lexer": "ipython3",
   "version": "3.8.19"
  }
 },
 "nbformat": 4,
 "nbformat_minor": 2
}
